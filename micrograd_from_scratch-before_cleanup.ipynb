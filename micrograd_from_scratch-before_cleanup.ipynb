{
 "cells": [
  {
   "cell_type": "code",
   "execution_count": 2,
   "id": "3c05bf2c",
   "metadata": {},
   "outputs": [],
   "source": [
    "import math\n",
    "import numpy as np\n",
    "import matplotlib.pyplot as plt\n",
    "%matplotlib inline"
   ]
  },
  {
   "cell_type": "code",
   "execution_count": 3,
   "id": "d7666b4a",
   "metadata": {},
   "outputs": [],
   "source": [
    "def f(x):\n",
    "    return 3*x**2 - 4*x + 5"
   ]
  },
  {
   "cell_type": "code",
   "execution_count": 4,
   "id": "94fc9fcb",
   "metadata": {},
   "outputs": [
    {
     "data": {
      "text/plain": [
       "20.0"
      ]
     },
     "execution_count": 4,
     "metadata": {},
     "output_type": "execute_result"
    }
   ],
   "source": [
    "f(3.0)"
   ]
  },
  {
   "cell_type": "code",
   "execution_count": 5,
   "id": "c7d8df0b",
   "metadata": {},
   "outputs": [
    {
     "data": {
      "text/plain": [
       "[<matplotlib.lines.Line2D at 0x7f462fff8520>]"
      ]
     },
     "execution_count": 5,
     "metadata": {},
     "output_type": "execute_result"
    },
    {
     "data": {
      "image/png": "[encoded data removed]",
      "text/plain": [
       "<Figure size 640x480 with 1 Axes>"
      ]
     },
     "metadata": {},
     "output_type": "display_data"
    }
   ],
   "source": [
    "xs = np.arange(-5, 5, .25)\n",
    "ys = f(xs)\n",
    "plt.plot(ys)"
   ]
  },
  {
   "cell_type": "code",
   "execution_count": 6,
   "id": "c08d7684",
   "metadata": {},
   "outputs": [
    {
     "data": {
      "text/plain": [
       "2.999378523327323e-06"
      ]
     },
     "execution_count": 6,
     "metadata": {},
     "output_type": "execute_result"
    }
   ],
   "source": [
    "h = 0.000001\n",
    "x = 2/3\n",
    "(f(x + h) - f(x))/h"
   ]
  },
  {
   "cell_type": "code",
   "execution_count": 7,
   "id": "1be5e6c3",
   "metadata": {},
   "outputs": [
    {
     "name": "stdout",
     "output_type": "stream",
     "text": [
      "4.0\n"
     ]
    }
   ],
   "source": [
    "# let's get more complex\n",
    "a = 2.0\n",
    "b = -3.0\n",
    "c = 10.0\n",
    "d = a*b + c\n",
    "print(d)"
   ]
  },
  {
   "cell_type": "code",
   "execution_count": 8,
   "id": "8bfaaf7e",
   "metadata": {},
   "outputs": [
    {
     "name": "stdout",
     "output_type": "stream",
     "text": [
      "d1 4.0\n",
      "d2 4.0001\n",
      "slope 0.9999999999976694\n"
     ]
    }
   ],
   "source": [
    "h = 0.0001\n",
    "\n",
    "# inputs\n",
    "a = 2.0\n",
    "b = -3.0\n",
    "c = 10.0\n",
    "\n",
    "d1 = a*b + c\n",
    "c += h\n",
    "d2 = a*b + c\n",
    "\n",
    "print('d1', d1)\n",
    "print('d2', d2)\n",
    "print('slope', (d2 - d1) / h)"
   ]
  },
  {
   "cell_type": "code",
   "execution_count": 202,
   "id": "999454f3",
   "metadata": {},
   "outputs": [
    {
     "data": {
      "text/plain": [
       "Value(data=-8.0)"
      ]
     },
     "execution_count": 202,
     "metadata": {},
     "output_type": "execute_result"
    }
   ],
   "source": [
    "class Value:\n",
    "    \n",
    "    def __init__(self, data, _children=(), _op='', label=''):\n",
    "        self.data = data\n",
    "        self.grad = 0.0\n",
    "        self._backward = lambda: None\n",
    "        self._prev = set(_children) # for efficiency\n",
    "        self._op = _op\n",
    "        self.label = label\n",
    "        \n",
    "    def __repr__(self):\n",
    "        return f\"Value(data={self.data})\"\n",
    "    \n",
    "    def __add__(self, other):\n",
    "        out = Value(self.data + other.data, (self, other), '+')\n",
    "        \n",
    "        def _backward():\n",
    "            self.grad += 1.0 * out.grad\n",
    "            other.grad += 1.0 * out.grad\n",
    "        out._backward = _backward\n",
    "        \n",
    "        return out\n",
    "    \n",
    "    def __mul__(self, other):\n",
    "        out = Value(self.data * other.data, (self, other), '*')\n",
    "        \n",
    "        def _backward():\n",
    "            self.grad += other.data * out.grad\n",
    "            other.grad += self.data * out.grad\n",
    "        out._backward = _backward\n",
    "        return out\n",
    "    \n",
    "    def tanh(self):\n",
    "        n = self.data\n",
    "        t = (math.exp(2*n) - 1)/(math.exp(2*n) + 1)\n",
    "        out = Value(t, (self,), 'tanh')\n",
    "        \n",
    "        def _backward():\n",
    "            self.grad += (1 - t**2) * out.grad\n",
    "        out._backward = _backward\n",
    "        return(out)\n",
    "    \n",
    "    \n",
    "    def backward(self):\n",
    "\n",
    "        topo = []\n",
    "        visited = set()\n",
    "        def build_topo(v):\n",
    "          if v not in visited:\n",
    "            visited.add(v)\n",
    "            for child in v._prev:\n",
    "              build_topo(child)\n",
    "            topo.append(v)\n",
    "        build_topo(self)\n",
    "\n",
    "        self.grad = 1.0\n",
    "        for node in reversed(topo):\n",
    "            node._backward()\n",
    "\n",
    "a = Value(2.0, label=\"a\")\n",
    "b = Value(-3.0, label=\"b\")\n",
    "c = Value(10.0, label=\"c\")\n",
    "e = a*b; e.label = 'e'\n",
    "# d = a*b + c\n",
    "# d = a.__mul__(b).__add__(c)\n",
    "d = e + c; d.label = 'd'\n",
    "f = Value(-2.0, label='f')\n",
    "L = d * f; L.label = \"L\"\n",
    "\n",
    "L"
   ]
  },
  {
   "cell_type": "code",
   "execution_count": 151,
   "id": "7ccd2c24",
   "metadata": {},
   "outputs": [],
   "source": [
    "from graphviz import Digraph\n",
    "\n",
    "def trace(root):\n",
    "  # builds a set of all nodes and edges in a graph\n",
    "  nodes, edges = set(), set()\n",
    "  def build(v):\n",
    "    if v not in nodes:\n",
    "      nodes.add(v)\n",
    "      for child in v._prev:\n",
    "        edges.add((child, v))\n",
    "        build(child)\n",
    "  build(root)\n",
    "  return nodes, edges\n",
    "\n",
    "def draw_dot(root):\n",
    "  dot = Digraph(format='svg', graph_attr={'rankdir': 'LR'}) # LR = left to right\n",
    "  \n",
    "  nodes, edges = trace(root)\n",
    "  for n in nodes:\n",
    "    uid = str(id(n))\n",
    "    # for any value in the graph, create a rectangular ('record') node for it\n",
    "    dot.node(name = uid, label = \"{ %s | data %.4f | grad %.4f }\" % ( n.label, n.data, n.grad ), shape='record')\n",
    "    if n._op:\n",
    "      # if this value is a result of some operation, create an op node for it\n",
    "      dot.node(name = uid + n._op, label = n._op)\n",
    "      # and connect this node to it\n",
    "      dot.edge(uid + n._op, uid)\n",
    "\n",
    "  for n1, n2 in edges:\n",
    "    # connect n1 to the op node of n2\n",
    "    dot.edge(str(id(n1)), str(id(n2)) + n2._op)\n",
    "\n",
    "  return dot\n"
   ]
  },
  {
   "cell_type": "code",
   "execution_count": 152,
   "id": "77e8c594",
   "metadata": {},
   "outputs": [
    {
     "data": {
      "image/svg+xml": [
       "<?xml version=\"1.0\" encoding=\"UTF-8\" standalone=\"no\"?>\n",
       "<!DOCTYPE svg PUBLIC \"-//W3C//DTD SVG 1.1//EN\"\n",
       " \"http://www.w3.org/Graphics/SVG/1.1/DTD/svg11.dtd\">\n",
       "<!-- Generated by graphviz version 2.40.1 (20161225.0304)\n",
       " -->\n",
       "<!-- Title: %3 Pages: 1 -->\n",
       "<svg width=\"1148pt\" height=\"156pt\"\n",
       " viewBox=\"0.00 0.00 1148.00 156.00\" xmlns=\"http://www.w3.org/2000/svg\" xmlns:xlink=\"http://www.w3.org/1999/xlink\">\n",
       "<g id=\"graph0\" class=\"graph\" transform=\"scale(1 1) rotate(0) translate(4 152)\">\n",
       "<title>%3</title>\n",
       "<polygon fill=\"#ffffff\" stroke=\"transparent\" points=\"-4,4 -4,-152 1144,-152 1144,4 -4,4\"/>\n",
       "<!-- 139939392334384 -->\n",
       "<g id=\"node1\" class=\"node\">\n",
       "<title>139939392334384</title>\n",
       "<polygon fill=\"none\" stroke=\"#000000\" points=\"948,-27.5 948,-63.5 1140,-63.5 1140,-27.5 948,-27.5\"/>\n",
       "<text text-anchor=\"middle\" x=\"960.5\" y=\"-41.8\" font-family=\"Times,serif\" font-size=\"14.00\" fill=\"#000000\">L</text>\n",
       "<polyline fill=\"none\" stroke=\"#000000\" points=\"973,-27.5 973,-63.5 \"/>\n",
       "<text text-anchor=\"middle\" x=\"1015.5\" y=\"-41.8\" font-family=\"Times,serif\" font-size=\"14.00\" fill=\"#000000\">data &#45;8.0000</text>\n",
       "<polyline fill=\"none\" stroke=\"#000000\" points=\"1058,-27.5 1058,-63.5 \"/>\n",
       "<text text-anchor=\"middle\" x=\"1099\" y=\"-41.8\" font-family=\"Times,serif\" font-size=\"14.00\" fill=\"#000000\">grad 0.0000</text>\n",
       "</g>\n",
       "<!-- 139939392334384* -->\n",
       "<g id=\"node2\" class=\"node\">\n",
       "<title>139939392334384*</title>\n",
       "<ellipse fill=\"none\" stroke=\"#000000\" cx=\"885\" cy=\"-45.5\" rx=\"27\" ry=\"18\"/>\n",
       "<text text-anchor=\"middle\" x=\"885\" y=\"-41.8\" font-family=\"Times,serif\" font-size=\"14.00\" fill=\"#000000\">*</text>\n",
       "</g>\n",
       "<!-- 139939392334384*&#45;&gt;139939392334384 -->\n",
       "<g id=\"edge1\" class=\"edge\">\n",
       "<title>139939392334384*&#45;&gt;139939392334384</title>\n",
       "<path fill=\"none\" stroke=\"#000000\" d=\"M912.3331,-45.5C919.8317,-45.5 928.4389,-45.5 937.5849,-45.5\"/>\n",
       "<polygon fill=\"#000000\" stroke=\"#000000\" points=\"937.6939,-49.0001 947.6939,-45.5 937.6939,-42.0001 937.6939,-49.0001\"/>\n",
       "</g>\n",
       "<!-- 139939392333376 -->\n",
       "<g id=\"node3\" class=\"node\">\n",
       "<title>139939392333376</title>\n",
       "<polygon fill=\"none\" stroke=\"#000000\" points=\"635.5,-55.5 635.5,-91.5 820.5,-91.5 820.5,-55.5 635.5,-55.5\"/>\n",
       "<text text-anchor=\"middle\" x=\"647\" y=\"-69.8\" font-family=\"Times,serif\" font-size=\"14.00\" fill=\"#000000\">d</text>\n",
       "<polyline fill=\"none\" stroke=\"#000000\" points=\"658.5,-55.5 658.5,-91.5 \"/>\n",
       "<text text-anchor=\"middle\" x=\"698.5\" y=\"-69.8\" font-family=\"Times,serif\" font-size=\"14.00\" fill=\"#000000\">data 4.0000</text>\n",
       "<polyline fill=\"none\" stroke=\"#000000\" points=\"738.5,-55.5 738.5,-91.5 \"/>\n",
       "<text text-anchor=\"middle\" x=\"779.5\" y=\"-69.8\" font-family=\"Times,serif\" font-size=\"14.00\" fill=\"#000000\">grad 0.0000</text>\n",
       "</g>\n",
       "<!-- 139939392333376&#45;&gt;139939392334384* -->\n",
       "<g id=\"edge8\" class=\"edge\">\n",
       "<title>139939392333376&#45;&gt;139939392334384*</title>\n",
       "<path fill=\"none\" stroke=\"#000000\" d=\"M820.6891,-56.9695C830.6008,-55.2018 840.2003,-53.4898 848.8269,-51.9513\"/>\n",
       "<polygon fill=\"#000000\" stroke=\"#000000\" points=\"849.5924,-55.37 858.8225,-50.1686 848.3633,-48.4788 849.5924,-55.37\"/>\n",
       "</g>\n",
       "<!-- 139939392333376+ -->\n",
       "<g id=\"node4\" class=\"node\">\n",
       "<title>139939392333376+</title>\n",
       "<ellipse fill=\"none\" stroke=\"#000000\" cx=\"571\" cy=\"-73.5\" rx=\"27\" ry=\"18\"/>\n",
       "<text text-anchor=\"middle\" x=\"571\" y=\"-69.8\" font-family=\"Times,serif\" font-size=\"14.00\" fill=\"#000000\">+</text>\n",
       "</g>\n",
       "<!-- 139939392333376+&#45;&gt;139939392333376 -->\n",
       "<g id=\"edge2\" class=\"edge\">\n",
       "<title>139939392333376+&#45;&gt;139939392333376</title>\n",
       "<path fill=\"none\" stroke=\"#000000\" d=\"M598.3473,-73.5C606.2371,-73.5 615.3479,-73.5 625.0087,-73.5\"/>\n",
       "<polygon fill=\"#000000\" stroke=\"#000000\" points=\"625.2472,-77.0001 635.2472,-73.5 625.2471,-70.0001 625.2472,-77.0001\"/>\n",
       "</g>\n",
       "<!-- 139939392333904 -->\n",
       "<g id=\"node5\" class=\"node\">\n",
       "<title>139939392333904</title>\n",
       "<polygon fill=\"none\" stroke=\"#000000\" points=\"317,-83.5 317,-119.5 507,-119.5 507,-83.5 317,-83.5\"/>\n",
       "<text text-anchor=\"middle\" x=\"328.5\" y=\"-97.8\" font-family=\"Times,serif\" font-size=\"14.00\" fill=\"#000000\">e</text>\n",
       "<polyline fill=\"none\" stroke=\"#000000\" points=\"340,-83.5 340,-119.5 \"/>\n",
       "<text text-anchor=\"middle\" x=\"382.5\" y=\"-97.8\" font-family=\"Times,serif\" font-size=\"14.00\" fill=\"#000000\">data &#45;6.0000</text>\n",
       "<polyline fill=\"none\" stroke=\"#000000\" points=\"425,-83.5 425,-119.5 \"/>\n",
       "<text text-anchor=\"middle\" x=\"466\" y=\"-97.8\" font-family=\"Times,serif\" font-size=\"14.00\" fill=\"#000000\">grad 0.0000</text>\n",
       "</g>\n",
       "<!-- 139939392333904&#45;&gt;139939392333376+ -->\n",
       "<g id=\"edge6\" class=\"edge\">\n",
       "<title>139939392333904&#45;&gt;139939392333376+</title>\n",
       "<path fill=\"none\" stroke=\"#000000\" d=\"M507.2448,-84.7273C516.9175,-83.024 526.2662,-81.3776 534.6869,-79.8948\"/>\n",
       "<polygon fill=\"#000000\" stroke=\"#000000\" points=\"535.5698,-83.2932 544.8112,-78.1119 534.3557,-76.3993 535.5698,-83.2932\"/>\n",
       "</g>\n",
       "<!-- 139939392333904* -->\n",
       "<g id=\"node6\" class=\"node\">\n",
       "<title>139939392333904*</title>\n",
       "<ellipse fill=\"none\" stroke=\"#000000\" cx=\"253\" cy=\"-101.5\" rx=\"27\" ry=\"18\"/>\n",
       "<text text-anchor=\"middle\" x=\"253\" y=\"-97.8\" font-family=\"Times,serif\" font-size=\"14.00\" fill=\"#000000\">*</text>\n",
       "</g>\n",
       "<!-- 139939392333904*&#45;&gt;139939392333904 -->\n",
       "<g id=\"edge3\" class=\"edge\">\n",
       "<title>139939392333904*&#45;&gt;139939392333904</title>\n",
       "<path fill=\"none\" stroke=\"#000000\" d=\"M280.3331,-101.5C288.1091,-101.5 297.0774,-101.5 306.6024,-101.5\"/>\n",
       "<polygon fill=\"#000000\" stroke=\"#000000\" points=\"306.7034,-105.0001 316.7034,-101.5 306.7034,-98.0001 306.7034,-105.0001\"/>\n",
       "</g>\n",
       "<!-- 139939392333424 -->\n",
       "<g id=\"node7\" class=\"node\">\n",
       "<title>139939392333424</title>\n",
       "<polygon fill=\"none\" stroke=\"#000000\" points=\"316,-28.5 316,-64.5 508,-64.5 508,-28.5 316,-28.5\"/>\n",
       "<text text-anchor=\"middle\" x=\"327.5\" y=\"-42.8\" font-family=\"Times,serif\" font-size=\"14.00\" fill=\"#000000\">c</text>\n",
       "<polyline fill=\"none\" stroke=\"#000000\" points=\"339,-28.5 339,-64.5 \"/>\n",
       "<text text-anchor=\"middle\" x=\"382.5\" y=\"-42.8\" font-family=\"Times,serif\" font-size=\"14.00\" fill=\"#000000\">data 10.0000</text>\n",
       "<polyline fill=\"none\" stroke=\"#000000\" points=\"426,-28.5 426,-64.5 \"/>\n",
       "<text text-anchor=\"middle\" x=\"467\" y=\"-42.8\" font-family=\"Times,serif\" font-size=\"14.00\" fill=\"#000000\">grad 0.0000</text>\n",
       "</g>\n",
       "<!-- 139939392333424&#45;&gt;139939392333376+ -->\n",
       "<g id=\"edge7\" class=\"edge\">\n",
       "<title>139939392333424&#45;&gt;139939392333376+</title>\n",
       "<path fill=\"none\" stroke=\"#000000\" d=\"M508.159,-62.8289C517.4355,-64.4041 526.3952,-65.9256 534.5016,-67.3022\"/>\n",
       "<polygon fill=\"#000000\" stroke=\"#000000\" points=\"534.1769,-70.797 544.6217,-69.0207 535.3488,-63.8958 534.1769,-70.797\"/>\n",
       "</g>\n",
       "<!-- 139939392333136 -->\n",
       "<g id=\"node8\" class=\"node\">\n",
       "<title>139939392333136</title>\n",
       "<polygon fill=\"none\" stroke=\"#000000\" points=\"2.5,-111.5 2.5,-147.5 187.5,-147.5 187.5,-111.5 2.5,-111.5\"/>\n",
       "<text text-anchor=\"middle\" x=\"14\" y=\"-125.8\" font-family=\"Times,serif\" font-size=\"14.00\" fill=\"#000000\">a</text>\n",
       "<polyline fill=\"none\" stroke=\"#000000\" points=\"25.5,-111.5 25.5,-147.5 \"/>\n",
       "<text text-anchor=\"middle\" x=\"65.5\" y=\"-125.8\" font-family=\"Times,serif\" font-size=\"14.00\" fill=\"#000000\">data 2.0000</text>\n",
       "<polyline fill=\"none\" stroke=\"#000000\" points=\"105.5,-111.5 105.5,-147.5 \"/>\n",
       "<text text-anchor=\"middle\" x=\"146.5\" y=\"-125.8\" font-family=\"Times,serif\" font-size=\"14.00\" fill=\"#000000\">grad 0.0000</text>\n",
       "</g>\n",
       "<!-- 139939392333136&#45;&gt;139939392333904* -->\n",
       "<g id=\"edge4\" class=\"edge\">\n",
       "<title>139939392333136&#45;&gt;139939392333904*</title>\n",
       "<path fill=\"none\" stroke=\"#000000\" d=\"M187.8232,-113.0503C198.0585,-111.2365 207.9744,-109.4792 216.8543,-107.9056\"/>\n",
       "<polygon fill=\"#000000\" stroke=\"#000000\" points=\"217.5241,-111.3415 226.7599,-106.1501 216.3025,-104.4489 217.5241,-111.3415\"/>\n",
       "</g>\n",
       "<!-- 139939392334192 -->\n",
       "<g id=\"node9\" class=\"node\">\n",
       "<title>139939392334192</title>\n",
       "<polygon fill=\"none\" stroke=\"#000000\" points=\"634,-.5 634,-36.5 822,-36.5 822,-.5 634,-.5\"/>\n",
       "<text text-anchor=\"middle\" x=\"644.5\" y=\"-14.8\" font-family=\"Times,serif\" font-size=\"14.00\" fill=\"#000000\">f</text>\n",
       "<polyline fill=\"none\" stroke=\"#000000\" points=\"655,-.5 655,-36.5 \"/>\n",
       "<text text-anchor=\"middle\" x=\"697.5\" y=\"-14.8\" font-family=\"Times,serif\" font-size=\"14.00\" fill=\"#000000\">data &#45;2.0000</text>\n",
       "<polyline fill=\"none\" stroke=\"#000000\" points=\"740,-.5 740,-36.5 \"/>\n",
       "<text text-anchor=\"middle\" x=\"781\" y=\"-14.8\" font-family=\"Times,serif\" font-size=\"14.00\" fill=\"#000000\">grad 0.0000</text>\n",
       "</g>\n",
       "<!-- 139939392334192&#45;&gt;139939392334384* -->\n",
       "<g id=\"edge9\" class=\"edge\">\n",
       "<title>139939392334192&#45;&gt;139939392334384*</title>\n",
       "<path fill=\"none\" stroke=\"#000000\" d=\"M822.0467,-34.6736C831.5059,-36.3004 840.6513,-37.8732 848.9035,-39.2923\"/>\n",
       "<polygon fill=\"#000000\" stroke=\"#000000\" points=\"848.3864,-42.7547 858.835,-41.0003 849.5729,-35.856 848.3864,-42.7547\"/>\n",
       "</g>\n",
       "<!-- 139939392333232 -->\n",
       "<g id=\"node10\" class=\"node\">\n",
       "<title>139939392333232</title>\n",
       "<polygon fill=\"none\" stroke=\"#000000\" points=\"0,-56.5 0,-92.5 190,-92.5 190,-56.5 0,-56.5\"/>\n",
       "<text text-anchor=\"middle\" x=\"11.5\" y=\"-70.8\" font-family=\"Times,serif\" font-size=\"14.00\" fill=\"#000000\">b</text>\n",
       "<polyline fill=\"none\" stroke=\"#000000\" points=\"23,-56.5 23,-92.5 \"/>\n",
       "<text text-anchor=\"middle\" x=\"65.5\" y=\"-70.8\" font-family=\"Times,serif\" font-size=\"14.00\" fill=\"#000000\">data &#45;3.0000</text>\n",
       "<polyline fill=\"none\" stroke=\"#000000\" points=\"108,-56.5 108,-92.5 \"/>\n",
       "<text text-anchor=\"middle\" x=\"149\" y=\"-70.8\" font-family=\"Times,serif\" font-size=\"14.00\" fill=\"#000000\">grad 0.0000</text>\n",
       "</g>\n",
       "<!-- 139939392333232&#45;&gt;139939392333904* -->\n",
       "<g id=\"edge5\" class=\"edge\">\n",
       "<title>139939392333232&#45;&gt;139939392333904*</title>\n",
       "<path fill=\"none\" stroke=\"#000000\" d=\"M190.1002,-90.7513C199.3706,-92.3355 208.332,-93.8669 216.4442,-95.2531\"/>\n",
       "<polygon fill=\"#000000\" stroke=\"#000000\" points=\"216.1271,-98.7496 226.5738,-96.9841 217.3063,-91.8496 216.1271,-98.7496\"/>\n",
       "</g>\n",
       "</g>\n",
       "</svg>\n"
      ],
      "text/plain": [
       "<graphviz.graphs.Digraph at 0x7f462dc46a00>"
      ]
     },
     "execution_count": 152,
     "metadata": {},
     "output_type": "execute_result"
    }
   ],
   "source": [
    "draw_dot(L)"
   ]
  },
  {
   "cell_type": "code",
   "execution_count": 155,
   "id": "bd6adb9a",
   "metadata": {},
   "outputs": [
    {
     "name": "stdout",
     "output_type": "stream",
     "text": [
      "-8.0\n"
     ]
    }
   ],
   "source": [
    "a.data += 0.01 * a.grad\n",
    "b.data += 0.01 * b.grad\n",
    "c.data += 0.01 * c.grad\n",
    "f.data += 0.01 * f.grad\n",
    "\n",
    "e = a * b\n",
    "d = e + c\n",
    "L = d * f\n",
    "print(L.data)"
   ]
  },
  {
   "cell_type": "code",
   "execution_count": 156,
   "id": "b1b9dc47",
   "metadata": {},
   "outputs": [],
   "source": [
    "\n",
    "a.grad = (-2.0 * -3.0)\n",
    "b.grad = (-2.0 * 2.0)"
   ]
  },
  {
   "cell_type": "code",
   "execution_count": 157,
   "id": "b8cc5fad",
   "metadata": {},
   "outputs": [],
   "source": [
    "c.grad = -2.0\n",
    "e.grad = -2.0 "
   ]
  },
  {
   "cell_type": "code",
   "execution_count": 158,
   "id": "0b6e74c1",
   "metadata": {},
   "outputs": [],
   "source": [
    "# L = d * f\n",
    "# dL/dd = f = -2.0\n",
    "# (f(x+h) - f(x))/h\n",
    "# ((d+h)*f - d*f)/h\n",
    "# (d*f + f*h - d*f)/h\n",
    "# f*h/h\n",
    "# f"
   ]
  },
  {
   "cell_type": "code",
   "execution_count": 159,
   "id": "7b3978da",
   "metadata": {},
   "outputs": [],
   "source": [
    "# dL/dc\n",
    "# dL/de\n",
    "\n",
    "# dd/dc = 1.0 # (local) derivative of sum is simple\n",
    "# dd/de = 1.0\n",
    "\n",
    "# d = c + e\n",
    "# (f(x+h) - f(x))/h\n",
    "# (c+h + e) - (c + e))/h\n",
    "# (c + h + e - c - e)/h\n",
    "# h/h\n",
    "# 1.0\n",
    "\n",
    "\n",
    "# chain rule (liebniz notatoin)\n",
    "# dz/dx = dz/dy * dy/dx\n",
    "\n",
    "# dL/dc =  dL/dd * dd/dc = -2.0 * 1.0 = -2.0\n"
   ]
  },
  {
   "cell_type": "code",
   "execution_count": 160,
   "id": "5def01a9",
   "metadata": {},
   "outputs": [],
   "source": [
    "# dL / de = -2.0\n",
    "\n",
    "# de/da = b = -3.0\n",
    "#\n",
    "\n",
    "# want: dL/da = (dL/de) * (dL/da)\n"
   ]
  },
  {
   "cell_type": "code",
   "execution_count": 161,
   "id": "608ba7da",
   "metadata": {},
   "outputs": [],
   "source": [
    "f.grad = 4.0\n",
    "d.grad = -2.0"
   ]
  },
  {
   "cell_type": "code",
   "execution_count": 162,
   "id": "5fe85cbe",
   "metadata": {},
   "outputs": [],
   "source": [
    "def lol():\n",
    "    a = Value(2.0, label=\"a\")\n",
    "    b = Value(-3.0, label=\"b\")\n",
    "    c = Value(10.0, label=\"c\")\n",
    "    e = a*b; e.label = 'e'\n",
    "    # d = a*b + c\n",
    "    # d = a.__mul__(b).__add__(c)\n",
    "    d = e + c; d.label = 'd'\n",
    "    f = Value(-2.0, label='f')\n",
    "    L = d * f; L.label = \"L\"\n",
    "    L1 = L.data\n",
    "    \n",
    "    a = Value(2.0 , label=\"a\")\n",
    "    b = Value(-3.0, label=\"b\")\n",
    "    b.data += h\n",
    "    c = Value(10.0, label=\"c\")\n",
    "    e = a*b; e.label = 'e'\n",
    "    # d = a*b + c\n",
    "    # d = a.__mul__(b).__add__(c)\n",
    "    d = e + c; d.label = 'd'\n",
    "    # d.data += h\n",
    "    f = Value(-2.0, label='f')\n",
    "    L = d * f; L.label = \"L\"\n",
    "    L2 = L.data \n",
    "    \n",
    "    print((L2 - L1)/h)\n",
    "\n",
    "    "
   ]
  },
  {
   "cell_type": "code",
   "execution_count": 163,
   "id": "218af1c2",
   "metadata": {},
   "outputs": [
    {
     "name": "stdout",
     "output_type": "stream",
     "text": [
      "-4.000000000008441\n"
     ]
    }
   ],
   "source": [
    "lol()"
   ]
  },
  {
   "cell_type": "code",
   "execution_count": 164,
   "id": "39fa54de",
   "metadata": {},
   "outputs": [
    {
     "data": {
      "image/png": "[encoded data removed]",
      "text/plain": [
       "<Figure size 640x480 with 1 Axes>"
      ]
     },
     "metadata": {},
     "output_type": "display_data"
    }
   ],
   "source": [
    "plt.plot(np.arange(-5,5,0.2), np.tanh(np.arange(-5,5,0.2)))\n",
    "plt.grid()"
   ]
  },
  {
   "cell_type": "code",
   "execution_count": 194,
   "id": "650db3c0",
   "metadata": {},
   "outputs": [],
   "source": [
    "# inputs x1, x2\n",
    "x1 = Value(2.0, label='x1')\n",
    "x2 = Value(0.0, label='x2')\n",
    "# weights w1, w2\n",
    "w1 = Value(-3.0, label='w1')\n",
    "w2 = Value(1.0, label='w2')\n",
    "# bias of the neuron\n",
    "b = Value(6.8813735870195432, label='b')\n",
    "# x1*w1 + x2*w2 + b\n",
    "x1w1 = x1*w1; x1w1.label = 'x1w1'\n",
    "x2w2 = x2*w2; x2w2.label = 'x2w2'\n",
    "x1w1x2w2 = x1w1 + x2w2; x1w1x2w2.label = 'x1*w1 + x2*w2'\n",
    "n = x1w1x2w2 + b; n.label = 'n'\n",
    "o = n.tanh(); o.label = 'o'"
   ]
  },
  {
   "cell_type": "code",
   "execution_count": 197,
   "id": "63bdb748",
   "metadata": {},
   "outputs": [
    {
     "data": {
      "image/svg+xml": [
       "<?xml version=\"1.0\" encoding=\"UTF-8\" standalone=\"no\"?>\n",
       "<!DOCTYPE svg PUBLIC \"-//W3C//DTD SVG 1.1//EN\"\n",
       " \"http://www.w3.org/Graphics/SVG/1.1/DTD/svg11.dtd\">\n",
       "<!-- Generated by graphviz version 2.40.1 (20161225.0304)\n",
       " -->\n",
       "<!-- Title: %3 Pages: 1 -->\n",
       "<svg width=\"1569pt\" height=\"210pt\"\n",
       " viewBox=\"0.00 0.00 1569.00 210.00\" xmlns=\"http://www.w3.org/2000/svg\" xmlns:xlink=\"http://www.w3.org/1999/xlink\">\n",
       "<g id=\"graph0\" class=\"graph\" transform=\"scale(1 1) rotate(0) translate(4 206)\">\n",
       "<title>%3</title>\n",
       "<polygon fill=\"#ffffff\" stroke=\"transparent\" points=\"-4,4 -4,-206 1565,-206 1565,4 -4,4\"/>\n",
       "<!-- 139939392612384 -->\n",
       "<g id=\"node1\" class=\"node\">\n",
       "<title>139939392612384</title>\n",
       "<polygon fill=\"none\" stroke=\"#000000\" points=\"2.5,-165.5 2.5,-201.5 197.5,-201.5 197.5,-165.5 2.5,-165.5\"/>\n",
       "<text text-anchor=\"middle\" x=\"19\" y=\"-179.8\" font-family=\"Times,serif\" font-size=\"14.00\" fill=\"#000000\">w2</text>\n",
       "<polyline fill=\"none\" stroke=\"#000000\" points=\"35.5,-165.5 35.5,-201.5 \"/>\n",
       "<text text-anchor=\"middle\" x=\"75.5\" y=\"-179.8\" font-family=\"Times,serif\" font-size=\"14.00\" fill=\"#000000\">data 1.0000</text>\n",
       "<polyline fill=\"none\" stroke=\"#000000\" points=\"115.5,-165.5 115.5,-201.5 \"/>\n",
       "<text text-anchor=\"middle\" x=\"156.5\" y=\"-179.8\" font-family=\"Times,serif\" font-size=\"14.00\" fill=\"#000000\">grad 0.0000</text>\n",
       "</g>\n",
       "<!-- 139939392771792* -->\n",
       "<g id=\"node9\" class=\"node\">\n",
       "<title>139939392771792*</title>\n",
       "<ellipse fill=\"none\" stroke=\"#000000\" cx=\"263\" cy=\"-128.5\" rx=\"27\" ry=\"18\"/>\n",
       "<text text-anchor=\"middle\" x=\"263\" y=\"-124.8\" font-family=\"Times,serif\" font-size=\"14.00\" fill=\"#000000\">*</text>\n",
       "</g>\n",
       "<!-- 139939392612384&#45;&gt;139939392771792* -->\n",
       "<g id=\"edge9\" class=\"edge\">\n",
       "<title>139939392612384&#45;&gt;139939392771792*</title>\n",
       "<path fill=\"none\" stroke=\"#000000\" d=\"M172.2409,-165.4257C181.6487,-162.6548 191.1025,-159.6571 200,-156.5 210.5997,-152.7389 221.9063,-147.9663 231.9726,-143.4316\"/>\n",
       "<polygon fill=\"#000000\" stroke=\"#000000\" points=\"233.5571,-146.5553 241.1803,-139.1975 230.6325,-140.1955 233.5571,-146.5553\"/>\n",
       "</g>\n",
       "<!-- 139939392613968 -->\n",
       "<g id=\"node2\" class=\"node\">\n",
       "<title>139939392613968</title>\n",
       "<polygon fill=\"none\" stroke=\"#000000\" points=\"0,-55.5 0,-91.5 200,-91.5 200,-55.5 0,-55.5\"/>\n",
       "<text text-anchor=\"middle\" x=\"16.5\" y=\"-69.8\" font-family=\"Times,serif\" font-size=\"14.00\" fill=\"#000000\">w1</text>\n",
       "<polyline fill=\"none\" stroke=\"#000000\" points=\"33,-55.5 33,-91.5 \"/>\n",
       "<text text-anchor=\"middle\" x=\"75.5\" y=\"-69.8\" font-family=\"Times,serif\" font-size=\"14.00\" fill=\"#000000\">data &#45;3.0000</text>\n",
       "<polyline fill=\"none\" stroke=\"#000000\" points=\"118,-55.5 118,-91.5 \"/>\n",
       "<text text-anchor=\"middle\" x=\"159\" y=\"-69.8\" font-family=\"Times,serif\" font-size=\"14.00\" fill=\"#000000\">grad 1.0000</text>\n",
       "</g>\n",
       "<!-- 139939392772848* -->\n",
       "<g id=\"node11\" class=\"node\">\n",
       "<title>139939392772848*</title>\n",
       "<ellipse fill=\"none\" stroke=\"#000000\" cx=\"263\" cy=\"-73.5\" rx=\"27\" ry=\"18\"/>\n",
       "<text text-anchor=\"middle\" x=\"263\" y=\"-69.8\" font-family=\"Times,serif\" font-size=\"14.00\" fill=\"#000000\">*</text>\n",
       "</g>\n",
       "<!-- 139939392613968&#45;&gt;139939392772848* -->\n",
       "<g id=\"edge13\" class=\"edge\">\n",
       "<title>139939392613968&#45;&gt;139939392772848*</title>\n",
       "<path fill=\"none\" stroke=\"#000000\" d=\"M200.4461,-73.5C209.3643,-73.5 217.962,-73.5 225.7793,-73.5\"/>\n",
       "<polygon fill=\"#000000\" stroke=\"#000000\" points=\"225.9124,-77.0001 235.9123,-73.5 225.9123,-70.0001 225.9124,-77.0001\"/>\n",
       "</g>\n",
       "<!-- 139939392113248 -->\n",
       "<g id=\"node3\" class=\"node\">\n",
       "<title>139939392113248</title>\n",
       "<polygon fill=\"none\" stroke=\"#000000\" points=\"666,-82.5 666,-118.5 939,-118.5 939,-82.5 666,-82.5\"/>\n",
       "<text text-anchor=\"middle\" x=\"719\" y=\"-96.8\" font-family=\"Times,serif\" font-size=\"14.00\" fill=\"#000000\">x1*w1 + x2*w2</text>\n",
       "<polyline fill=\"none\" stroke=\"#000000\" points=\"772,-82.5 772,-118.5 \"/>\n",
       "<text text-anchor=\"middle\" x=\"814.5\" y=\"-96.8\" font-family=\"Times,serif\" font-size=\"14.00\" fill=\"#000000\">data &#45;6.0000</text>\n",
       "<polyline fill=\"none\" stroke=\"#000000\" points=\"857,-82.5 857,-118.5 \"/>\n",
       "<text text-anchor=\"middle\" x=\"898\" y=\"-96.8\" font-family=\"Times,serif\" font-size=\"14.00\" fill=\"#000000\">grad 0.5000</text>\n",
       "</g>\n",
       "<!-- 139939392113968+ -->\n",
       "<g id=\"node14\" class=\"node\">\n",
       "<title>139939392113968+</title>\n",
       "<ellipse fill=\"none\" stroke=\"#000000\" cx=\"1002\" cy=\"-72.5\" rx=\"27\" ry=\"18\"/>\n",
       "<text text-anchor=\"middle\" x=\"1002\" y=\"-68.8\" font-family=\"Times,serif\" font-size=\"14.00\" fill=\"#000000\">+</text>\n",
       "</g>\n",
       "<!-- 139939392113248&#45;&gt;139939392113968+ -->\n",
       "<g id=\"edge8\" class=\"edge\">\n",
       "<title>139939392113248&#45;&gt;139939392113968+</title>\n",
       "<path fill=\"none\" stroke=\"#000000\" d=\"M930.8208,-82.4901C943.2835,-80.7409 955.0963,-79.083 965.3869,-77.6387\"/>\n",
       "<polygon fill=\"#000000\" stroke=\"#000000\" points=\"966.1068,-81.072 975.5232,-76.216 965.1338,-74.14 966.1068,-81.072\"/>\n",
       "</g>\n",
       "<!-- 139939392113248+ -->\n",
       "<g id=\"node4\" class=\"node\">\n",
       "<title>139939392113248+</title>\n",
       "<ellipse fill=\"none\" stroke=\"#000000\" cx=\"603\" cy=\"-100.5\" rx=\"27\" ry=\"18\"/>\n",
       "<text text-anchor=\"middle\" x=\"603\" y=\"-96.8\" font-family=\"Times,serif\" font-size=\"14.00\" fill=\"#000000\">+</text>\n",
       "</g>\n",
       "<!-- 139939392113248+&#45;&gt;139939392113248 -->\n",
       "<g id=\"edge1\" class=\"edge\">\n",
       "<title>139939392113248+&#45;&gt;139939392113248</title>\n",
       "<path fill=\"none\" stroke=\"#000000\" d=\"M630.3213,-100.5C637.688,-100.5 646.1981,-100.5 655.4094,-100.5\"/>\n",
       "<polygon fill=\"#000000\" stroke=\"#000000\" points=\"655.659,-104.0001 665.659,-100.5 655.659,-97.0001 655.659,-104.0001\"/>\n",
       "</g>\n",
       "<!-- 139939392770160 -->\n",
       "<g id=\"node5\" class=\"node\">\n",
       "<title>139939392770160</title>\n",
       "<polygon fill=\"none\" stroke=\"#000000\" points=\"710,-27.5 710,-63.5 895,-63.5 895,-27.5 710,-27.5\"/>\n",
       "<text text-anchor=\"middle\" x=\"721.5\" y=\"-41.8\" font-family=\"Times,serif\" font-size=\"14.00\" fill=\"#000000\">b</text>\n",
       "<polyline fill=\"none\" stroke=\"#000000\" points=\"733,-27.5 733,-63.5 \"/>\n",
       "<text text-anchor=\"middle\" x=\"773\" y=\"-41.8\" font-family=\"Times,serif\" font-size=\"14.00\" fill=\"#000000\">data 6.8814</text>\n",
       "<polyline fill=\"none\" stroke=\"#000000\" points=\"813,-27.5 813,-63.5 \"/>\n",
       "<text text-anchor=\"middle\" x=\"854\" y=\"-41.8\" font-family=\"Times,serif\" font-size=\"14.00\" fill=\"#000000\">grad 0.5000</text>\n",
       "</g>\n",
       "<!-- 139939392770160&#45;&gt;139939392113968+ -->\n",
       "<g id=\"edge7\" class=\"edge\">\n",
       "<title>139939392770160&#45;&gt;139939392113968+</title>\n",
       "<path fill=\"none\" stroke=\"#000000\" d=\"M895.2415,-58.0515C920.0822,-61.4134 945.5055,-64.8541 965.3083,-67.5342\"/>\n",
       "<polygon fill=\"#000000\" stroke=\"#000000\" points=\"965.0257,-71.0278 975.4048,-68.9007 965.9646,-64.091 965.0257,-71.0278\"/>\n",
       "</g>\n",
       "<!-- 139939392114304 -->\n",
       "<g id=\"node6\" class=\"node\">\n",
       "<title>139939392114304</title>\n",
       "<polygon fill=\"none\" stroke=\"#000000\" points=\"1376,-54.5 1376,-90.5 1561,-90.5 1561,-54.5 1376,-54.5\"/>\n",
       "<text text-anchor=\"middle\" x=\"1387.5\" y=\"-68.8\" font-family=\"Times,serif\" font-size=\"14.00\" fill=\"#000000\">o</text>\n",
       "<polyline fill=\"none\" stroke=\"#000000\" points=\"1399,-54.5 1399,-90.5 \"/>\n",
       "<text text-anchor=\"middle\" x=\"1439\" y=\"-68.8\" font-family=\"Times,serif\" font-size=\"14.00\" fill=\"#000000\">data 0.7071</text>\n",
       "<polyline fill=\"none\" stroke=\"#000000\" points=\"1479,-54.5 1479,-90.5 \"/>\n",
       "<text text-anchor=\"middle\" x=\"1520\" y=\"-68.8\" font-family=\"Times,serif\" font-size=\"14.00\" fill=\"#000000\">grad 1.0000</text>\n",
       "</g>\n",
       "<!-- 139939392114304tanh -->\n",
       "<g id=\"node7\" class=\"node\">\n",
       "<title>139939392114304tanh</title>\n",
       "<ellipse fill=\"none\" stroke=\"#000000\" cx=\"1313\" cy=\"-72.5\" rx=\"27\" ry=\"18\"/>\n",
       "<text text-anchor=\"middle\" x=\"1313\" y=\"-68.8\" font-family=\"Times,serif\" font-size=\"14.00\" fill=\"#000000\">tanh</text>\n",
       "</g>\n",
       "<!-- 139939392114304tanh&#45;&gt;139939392114304 -->\n",
       "<g id=\"edge2\" class=\"edge\">\n",
       "<title>139939392114304tanh&#45;&gt;139939392114304</title>\n",
       "<path fill=\"none\" stroke=\"#000000\" d=\"M1340.086,-72.5C1347.6903,-72.5 1356.4399,-72.5 1365.7222,-72.5\"/>\n",
       "<polygon fill=\"#000000\" stroke=\"#000000\" points=\"1365.9746,-76.0001 1375.9746,-72.5 1365.9746,-69.0001 1365.9746,-76.0001\"/>\n",
       "</g>\n",
       "<!-- 139939392771792 -->\n",
       "<g id=\"node8\" class=\"node\">\n",
       "<title>139939392771792</title>\n",
       "<polygon fill=\"none\" stroke=\"#000000\" points=\"328.5,-110.5 328.5,-146.5 537.5,-146.5 537.5,-110.5 328.5,-110.5\"/>\n",
       "<text text-anchor=\"middle\" x=\"352\" y=\"-124.8\" font-family=\"Times,serif\" font-size=\"14.00\" fill=\"#000000\">x2w2</text>\n",
       "<polyline fill=\"none\" stroke=\"#000000\" points=\"375.5,-110.5 375.5,-146.5 \"/>\n",
       "<text text-anchor=\"middle\" x=\"415.5\" y=\"-124.8\" font-family=\"Times,serif\" font-size=\"14.00\" fill=\"#000000\">data 0.0000</text>\n",
       "<polyline fill=\"none\" stroke=\"#000000\" points=\"455.5,-110.5 455.5,-146.5 \"/>\n",
       "<text text-anchor=\"middle\" x=\"496.5\" y=\"-124.8\" font-family=\"Times,serif\" font-size=\"14.00\" fill=\"#000000\">grad 0.5000</text>\n",
       "</g>\n",
       "<!-- 139939392771792&#45;&gt;139939392113248+ -->\n",
       "<g id=\"edge11\" class=\"edge\">\n",
       "<title>139939392771792&#45;&gt;139939392113248+</title>\n",
       "<path fill=\"none\" stroke=\"#000000\" d=\"M537.7598,-111.2455C547.9609,-109.5653 557.7601,-107.9513 566.5243,-106.5078\"/>\n",
       "<polygon fill=\"#000000\" stroke=\"#000000\" points=\"567.3607,-109.9172 576.6589,-104.8385 566.223,-103.0103 567.3607,-109.9172\"/>\n",
       "</g>\n",
       "<!-- 139939392771792*&#45;&gt;139939392771792 -->\n",
       "<g id=\"edge3\" class=\"edge\">\n",
       "<title>139939392771792*&#45;&gt;139939392771792</title>\n",
       "<path fill=\"none\" stroke=\"#000000\" d=\"M290.3134,-128.5C298.4087,-128.5 307.8256,-128.5 317.8893,-128.5\"/>\n",
       "<polygon fill=\"#000000\" stroke=\"#000000\" points=\"318.1435,-132.0001 328.1435,-128.5 318.1434,-125.0001 318.1435,-132.0001\"/>\n",
       "</g>\n",
       "<!-- 139939392772848 -->\n",
       "<g id=\"node10\" class=\"node\">\n",
       "<title>139939392772848</title>\n",
       "<polygon fill=\"none\" stroke=\"#000000\" points=\"326,-55.5 326,-91.5 540,-91.5 540,-55.5 326,-55.5\"/>\n",
       "<text text-anchor=\"middle\" x=\"349.5\" y=\"-69.8\" font-family=\"Times,serif\" font-size=\"14.00\" fill=\"#000000\">x1w1</text>\n",
       "<polyline fill=\"none\" stroke=\"#000000\" points=\"373,-55.5 373,-91.5 \"/>\n",
       "<text text-anchor=\"middle\" x=\"415.5\" y=\"-69.8\" font-family=\"Times,serif\" font-size=\"14.00\" fill=\"#000000\">data &#45;6.0000</text>\n",
       "<polyline fill=\"none\" stroke=\"#000000\" points=\"458,-55.5 458,-91.5 \"/>\n",
       "<text text-anchor=\"middle\" x=\"499\" y=\"-69.8\" font-family=\"Times,serif\" font-size=\"14.00\" fill=\"#000000\">grad 0.5000</text>\n",
       "</g>\n",
       "<!-- 139939392772848&#45;&gt;139939392113248+ -->\n",
       "<g id=\"edge6\" class=\"edge\">\n",
       "<title>139939392772848&#45;&gt;139939392113248+</title>\n",
       "<path fill=\"none\" stroke=\"#000000\" d=\"M540.1813,-90.5229C549.4937,-92.0019 558.4242,-93.4203 566.4815,-94.7\"/>\n",
       "<polygon fill=\"#000000\" stroke=\"#000000\" points=\"566.1041,-98.1839 576.5294,-96.2958 567.2022,-91.2705 566.1041,-98.1839\"/>\n",
       "</g>\n",
       "<!-- 139939392772848*&#45;&gt;139939392772848 -->\n",
       "<g id=\"edge4\" class=\"edge\">\n",
       "<title>139939392772848*&#45;&gt;139939392772848</title>\n",
       "<path fill=\"none\" stroke=\"#000000\" d=\"M290.3134,-73.5C297.8264,-73.5 306.4779,-73.5 315.7282,-73.5\"/>\n",
       "<polygon fill=\"#000000\" stroke=\"#000000\" points=\"315.9753,-77.0001 325.9753,-73.5 315.9752,-70.0001 315.9753,-77.0001\"/>\n",
       "</g>\n",
       "<!-- 139939392614160 -->\n",
       "<g id=\"node12\" class=\"node\">\n",
       "<title>139939392614160</title>\n",
       "<polygon fill=\"none\" stroke=\"#000000\" points=\"2,-.5 2,-36.5 198,-36.5 198,-.5 2,-.5\"/>\n",
       "<text text-anchor=\"middle\" x=\"17\" y=\"-14.8\" font-family=\"Times,serif\" font-size=\"14.00\" fill=\"#000000\">x1</text>\n",
       "<polyline fill=\"none\" stroke=\"#000000\" points=\"32,-.5 32,-36.5 \"/>\n",
       "<text text-anchor=\"middle\" x=\"72\" y=\"-14.8\" font-family=\"Times,serif\" font-size=\"14.00\" fill=\"#000000\">data 2.0000</text>\n",
       "<polyline fill=\"none\" stroke=\"#000000\" points=\"112,-.5 112,-36.5 \"/>\n",
       "<text text-anchor=\"middle\" x=\"155\" y=\"-14.8\" font-family=\"Times,serif\" font-size=\"14.00\" fill=\"#000000\">grad &#45;1.5000</text>\n",
       "</g>\n",
       "<!-- 139939392614160&#45;&gt;139939392772848* -->\n",
       "<g id=\"edge12\" class=\"edge\">\n",
       "<title>139939392614160&#45;&gt;139939392772848*</title>\n",
       "<path fill=\"none\" stroke=\"#000000\" d=\"M168.9601,-36.5202C179.4305,-39.627 190.0532,-42.9932 200,-46.5 210.4607,-50.188 221.6559,-54.7698 231.6639,-59.1056\"/>\n",
       "<polygon fill=\"#000000\" stroke=\"#000000\" points=\"230.2707,-62.3164 240.8327,-63.1501 233.0959,-55.9118 230.2707,-62.3164\"/>\n",
       "</g>\n",
       "<!-- 139939392113968 -->\n",
       "<g id=\"node13\" class=\"node\">\n",
       "<title>139939392113968</title>\n",
       "<polygon fill=\"none\" stroke=\"#000000\" points=\"1065,-54.5 1065,-90.5 1250,-90.5 1250,-54.5 1065,-54.5\"/>\n",
       "<text text-anchor=\"middle\" x=\"1076.5\" y=\"-68.8\" font-family=\"Times,serif\" font-size=\"14.00\" fill=\"#000000\">n</text>\n",
       "<polyline fill=\"none\" stroke=\"#000000\" points=\"1088,-54.5 1088,-90.5 \"/>\n",
       "<text text-anchor=\"middle\" x=\"1128\" y=\"-68.8\" font-family=\"Times,serif\" font-size=\"14.00\" fill=\"#000000\">data 0.8814</text>\n",
       "<polyline fill=\"none\" stroke=\"#000000\" points=\"1168,-54.5 1168,-90.5 \"/>\n",
       "<text text-anchor=\"middle\" x=\"1209\" y=\"-68.8\" font-family=\"Times,serif\" font-size=\"14.00\" fill=\"#000000\">grad 0.5000</text>\n",
       "</g>\n",
       "<!-- 139939392113968&#45;&gt;139939392114304tanh -->\n",
       "<g id=\"edge10\" class=\"edge\">\n",
       "<title>139939392113968&#45;&gt;139939392114304tanh</title>\n",
       "<path fill=\"none\" stroke=\"#000000\" d=\"M1250.2004,-72.5C1259.1436,-72.5 1267.8125,-72.5 1275.7095,-72.5\"/>\n",
       "<polygon fill=\"#000000\" stroke=\"#000000\" points=\"1275.9529,-76.0001 1285.9528,-72.5 1275.9528,-69.0001 1275.9529,-76.0001\"/>\n",
       "</g>\n",
       "<!-- 139939392113968+&#45;&gt;139939392113968 -->\n",
       "<g id=\"edge5\" class=\"edge\">\n",
       "<title>139939392113968+&#45;&gt;139939392113968</title>\n",
       "<path fill=\"none\" stroke=\"#000000\" d=\"M1029.086,-72.5C1036.6903,-72.5 1045.4399,-72.5 1054.7222,-72.5\"/>\n",
       "<polygon fill=\"#000000\" stroke=\"#000000\" points=\"1054.9746,-76.0001 1064.9746,-72.5 1054.9746,-69.0001 1054.9746,-76.0001\"/>\n",
       "</g>\n",
       "<!-- 139939392612144 -->\n",
       "<g id=\"node15\" class=\"node\">\n",
       "<title>139939392612144</title>\n",
       "<polygon fill=\"none\" stroke=\"#000000\" points=\"4,-110.5 4,-146.5 196,-146.5 196,-110.5 4,-110.5\"/>\n",
       "<text text-anchor=\"middle\" x=\"19\" y=\"-124.8\" font-family=\"Times,serif\" font-size=\"14.00\" fill=\"#000000\">x2</text>\n",
       "<polyline fill=\"none\" stroke=\"#000000\" points=\"34,-110.5 34,-146.5 \"/>\n",
       "<text text-anchor=\"middle\" x=\"74\" y=\"-124.8\" font-family=\"Times,serif\" font-size=\"14.00\" fill=\"#000000\">data 0.0000</text>\n",
       "<polyline fill=\"none\" stroke=\"#000000\" points=\"114,-110.5 114,-146.5 \"/>\n",
       "<text text-anchor=\"middle\" x=\"155\" y=\"-124.8\" font-family=\"Times,serif\" font-size=\"14.00\" fill=\"#000000\">grad 0.5000</text>\n",
       "</g>\n",
       "<!-- 139939392612144&#45;&gt;139939392771792* -->\n",
       "<g id=\"edge14\" class=\"edge\">\n",
       "<title>139939392612144&#45;&gt;139939392771792*</title>\n",
       "<path fill=\"none\" stroke=\"#000000\" d=\"M196.2314,-128.5C206.6349,-128.5 216.7072,-128.5 225.7394,-128.5\"/>\n",
       "<polygon fill=\"#000000\" stroke=\"#000000\" points=\"225.8222,-132.0001 235.8221,-128.5 225.8221,-125.0001 225.8222,-132.0001\"/>\n",
       "</g>\n",
       "</g>\n",
       "</svg>\n"
      ],
      "text/plain": [
       "<graphviz.graphs.Digraph at 0x7f462dca55b0>"
      ]
     },
     "execution_count": 197,
     "metadata": {},
     "output_type": "execute_result"
    }
   ],
   "source": [
    "draw_dot(o)"
   ]
  },
  {
   "cell_type": "code",
   "execution_count": 196,
   "id": "15c93b09",
   "metadata": {},
   "outputs": [],
   "source": [
    "o.backward()"
   ]
  },
  {
   "cell_type": "code",
   "execution_count": 188,
   "id": "1927b30f",
   "metadata": {},
   "outputs": [
    {
     "data": {
      "text/plain": [
       "[Value(data=1.0),\n",
       " Value(data=0.0),\n",
       " Value(data=0.0),\n",
       " Value(data=2.0),\n",
       " Value(data=-3.0),\n",
       " Value(data=-6.0),\n",
       " Value(data=-6.0),\n",
       " Value(data=6.881373587019543),\n",
       " Value(data=0.8813735870195432),\n",
       " Value(data=0.7071067811865476)]"
      ]
     },
     "execution_count": 188,
     "metadata": {},
     "output_type": "execute_result"
    }
   ],
   "source": [
    "topo = []\n",
    "visited = set()\n",
    "def build_topo(v):\n",
    "  if v not in visited:\n",
    "    visited.add(v)\n",
    "    for child in v._prev:\n",
    "      build_topo(child)\n",
    "    topo.append(v)\n",
    "build_topo(o)\n",
    "topo\n"
   ]
  },
  {
   "cell_type": "code",
   "execution_count": 179,
   "id": "0b5e1464",
   "metadata": {},
   "outputs": [],
   "source": [
    "o.grad = 1.0\n"
   ]
  },
  {
   "cell_type": "code",
   "execution_count": 180,
   "id": "a2492c0a",
   "metadata": {},
   "outputs": [],
   "source": [
    "o._backward()"
   ]
  },
  {
   "cell_type": "code",
   "execution_count": 181,
   "id": "d38c3257",
   "metadata": {},
   "outputs": [],
   "source": [
    "n._backward()"
   ]
  },
  {
   "cell_type": "code",
   "execution_count": 182,
   "id": "c52a8030",
   "metadata": {},
   "outputs": [],
   "source": [
    "b._backward()"
   ]
  },
  {
   "cell_type": "code",
   "execution_count": 184,
   "id": "e1dd6267",
   "metadata": {},
   "outputs": [],
   "source": [
    "x1w1x2w2._backward()"
   ]
  },
  {
   "cell_type": "code",
   "execution_count": 186,
   "id": "5dfa8120",
   "metadata": {},
   "outputs": [],
   "source": [
    "x2w2._backward()\n",
    "x1w1._backward()"
   ]
  },
  {
   "cell_type": "code",
   "execution_count": 97,
   "id": "a99ac0e2",
   "metadata": {},
   "outputs": [],
   "source": [
    "x1.grad = w1.data * x1w1.grad\n",
    "w1.grad = x1.data * x1w1.grad"
   ]
  },
  {
   "cell_type": "code",
   "execution_count": 99,
   "id": "1ad1b509",
   "metadata": {},
   "outputs": [],
   "source": [
    "x2.grad = w2.data * x2w2.grad\n",
    "w2.gard = x2.data * x2w2.grad"
   ]
  },
  {
   "cell_type": "code",
   "execution_count": 92,
   "id": "916edeca",
   "metadata": {},
   "outputs": [],
   "source": [
    "x1w1.grad = 0.5\n",
    "x2w2.grad = 0.5"
   ]
  },
  {
   "cell_type": "code",
   "execution_count": 93,
   "id": "28a64bba",
   "metadata": {},
   "outputs": [],
   "source": [
    "x1w1x2w2.grad = 0.5\n",
    "b.grad = 0.5"
   ]
  },
  {
   "cell_type": "code",
   "execution_count": 94,
   "id": "5104f06d",
   "metadata": {},
   "outputs": [],
   "source": [
    "n.grad = 0.5"
   ]
  },
  {
   "cell_type": "code",
   "execution_count": 95,
   "id": "e3aa4ebd",
   "metadata": {},
   "outputs": [],
   "source": [
    "o.grad = 1.0"
   ]
  },
  {
   "cell_type": "code",
   "execution_count": 51,
   "id": "b60ff87e",
   "metadata": {},
   "outputs": [
    {
     "data": {
      "text/plain": [
       "0.4999999999999999"
      ]
     },
     "execution_count": 51,
     "metadata": {},
     "output_type": "execute_result"
    }
   ],
   "source": [
    "1 - o.data**2"
   ]
  },
  {
   "cell_type": "code",
   "execution_count": 52,
   "id": "d1692ba1",
   "metadata": {},
   "outputs": [],
   "source": [
    "# o = tanh(n)\n",
    "# do/dn = 1 - tanh(n)**2 = 1 - o**2\n",
    "\n"
   ]
  },
  {
   "cell_type": "code",
   "execution_count": 203,
   "id": "c5ef9c84",
   "metadata": {},
   "outputs": [
    {
     "data": {
      "image/svg+xml": [
       "<?xml version=\"1.0\" encoding=\"UTF-8\" standalone=\"no\"?>\n",
       "<!DOCTYPE svg PUBLIC \"-//W3C//DTD SVG 1.1//EN\"\n",
       " \"http://www.w3.org/Graphics/SVG/1.1/DTD/svg11.dtd\">\n",
       "<!-- Generated by graphviz version 2.40.1 (20161225.0304)\n",
       " -->\n",
       "<!-- Title: %3 Pages: 1 -->\n",
       "<svg width=\"504pt\" height=\"45pt\"\n",
       " viewBox=\"0.00 0.00 504.00 45.00\" xmlns=\"http://www.w3.org/2000/svg\" xmlns:xlink=\"http://www.w3.org/1999/xlink\">\n",
       "<g id=\"graph0\" class=\"graph\" transform=\"scale(1 1) rotate(0) translate(4 41)\">\n",
       "<title>%3</title>\n",
       "<polygon fill=\"#ffffff\" stroke=\"transparent\" points=\"-4,4 -4,-41 500,-41 500,4 -4,4\"/>\n",
       "<!-- 139939392114448 -->\n",
       "<g id=\"node1\" class=\"node\">\n",
       "<title>139939392114448</title>\n",
       "<polygon fill=\"none\" stroke=\"#000000\" points=\"311,-.5 311,-36.5 496,-36.5 496,-.5 311,-.5\"/>\n",
       "<text text-anchor=\"middle\" x=\"322.5\" y=\"-14.8\" font-family=\"Times,serif\" font-size=\"14.00\" fill=\"#000000\">b</text>\n",
       "<polyline fill=\"none\" stroke=\"#000000\" points=\"334,-.5 334,-36.5 \"/>\n",
       "<text text-anchor=\"middle\" x=\"374\" y=\"-14.8\" font-family=\"Times,serif\" font-size=\"14.00\" fill=\"#000000\">data 6.0000</text>\n",
       "<polyline fill=\"none\" stroke=\"#000000\" points=\"414,-.5 414,-36.5 \"/>\n",
       "<text text-anchor=\"middle\" x=\"455\" y=\"-14.8\" font-family=\"Times,serif\" font-size=\"14.00\" fill=\"#000000\">grad 1.0000</text>\n",
       "</g>\n",
       "<!-- 139939392114448+ -->\n",
       "<g id=\"node2\" class=\"node\">\n",
       "<title>139939392114448+</title>\n",
       "<ellipse fill=\"none\" stroke=\"#000000\" cx=\"248\" cy=\"-18.5\" rx=\"27\" ry=\"18\"/>\n",
       "<text text-anchor=\"middle\" x=\"248\" y=\"-14.8\" font-family=\"Times,serif\" font-size=\"14.00\" fill=\"#000000\">+</text>\n",
       "</g>\n",
       "<!-- 139939392114448+&#45;&gt;139939392114448 -->\n",
       "<g id=\"edge1\" class=\"edge\">\n",
       "<title>139939392114448+&#45;&gt;139939392114448</title>\n",
       "<path fill=\"none\" stroke=\"#000000\" d=\"M275.086,-18.5C282.6903,-18.5 291.4399,-18.5 300.7222,-18.5\"/>\n",
       "<polygon fill=\"#000000\" stroke=\"#000000\" points=\"300.9746,-22.0001 310.9746,-18.5 300.9746,-15.0001 300.9746,-22.0001\"/>\n",
       "</g>\n",
       "<!-- 139939392113824 -->\n",
       "<g id=\"node3\" class=\"node\">\n",
       "<title>139939392113824</title>\n",
       "<polygon fill=\"none\" stroke=\"#000000\" points=\"0,-.5 0,-36.5 185,-36.5 185,-.5 0,-.5\"/>\n",
       "<text text-anchor=\"middle\" x=\"11.5\" y=\"-14.8\" font-family=\"Times,serif\" font-size=\"14.00\" fill=\"#000000\">a</text>\n",
       "<polyline fill=\"none\" stroke=\"#000000\" points=\"23,-.5 23,-36.5 \"/>\n",
       "<text text-anchor=\"middle\" x=\"63\" y=\"-14.8\" font-family=\"Times,serif\" font-size=\"14.00\" fill=\"#000000\">data 3.0000</text>\n",
       "<polyline fill=\"none\" stroke=\"#000000\" points=\"103,-.5 103,-36.5 \"/>\n",
       "<text text-anchor=\"middle\" x=\"144\" y=\"-14.8\" font-family=\"Times,serif\" font-size=\"14.00\" fill=\"#000000\">grad 2.0000</text>\n",
       "</g>\n",
       "<!-- 139939392113824&#45;&gt;139939392114448+ -->\n",
       "<g id=\"edge2\" class=\"edge\">\n",
       "<title>139939392113824&#45;&gt;139939392114448+</title>\n",
       "<path fill=\"none\" stroke=\"#000000\" d=\"M185.2004,-18.5C194.1436,-18.5 202.8125,-18.5 210.7095,-18.5\"/>\n",
       "<polygon fill=\"#000000\" stroke=\"#000000\" points=\"210.9529,-22.0001 220.9528,-18.5 210.9528,-15.0001 210.9529,-22.0001\"/>\n",
       "</g>\n",
       "</g>\n",
       "</svg>\n"
      ],
      "text/plain": [
       "<graphviz.graphs.Digraph at 0x7f462dc1cb50>"
      ]
     },
     "execution_count": 203,
     "metadata": {},
     "output_type": "execute_result"
    }
   ],
   "source": [
    "# bug\n",
    "a = Value(3.0, label='a')\n",
    "b = a + a ; b.label = 'b'\n",
    "b.backward()\n",
    "draw_dot(b)"
   ]
  },
  {
   "cell_type": "code",
   "execution_count": null,
   "id": "c71d88ae",
   "metadata": {},
   "outputs": [],
   "source": [
    "# overwriting a to be a (setting 1 to 1 again)"
   ]
  },
  {
   "cell_type": "code",
   "execution_count": 204,
   "id": "019f7086",
   "metadata": {},
   "outputs": [
    {
     "data": {
      "image/svg+xml": [
       "<?xml version=\"1.0\" encoding=\"UTF-8\" standalone=\"no\"?>\n",
       "<!DOCTYPE svg PUBLIC \"-//W3C//DTD SVG 1.1//EN\"\n",
       " \"http://www.w3.org/Graphics/SVG/1.1/DTD/svg11.dtd\">\n",
       "<!-- Generated by graphviz version 2.40.1 (20161225.0304)\n",
       " -->\n",
       "<!-- Title: %3 Pages: 1 -->\n",
       "<svg width=\"832pt\" height=\"100pt\"\n",
       " viewBox=\"0.00 0.00 832.00 100.00\" xmlns=\"http://www.w3.org/2000/svg\" xmlns:xlink=\"http://www.w3.org/1999/xlink\">\n",
       "<g id=\"graph0\" class=\"graph\" transform=\"scale(1 1) rotate(0) translate(4 96)\">\n",
       "<title>%3</title>\n",
       "<polygon fill=\"#ffffff\" stroke=\"transparent\" points=\"-4,4 -4,-96 828,-96 828,4 -4,4\"/>\n",
       "<!-- 139939392611328 -->\n",
       "<g id=\"node1\" class=\"node\">\n",
       "<title>139939392611328</title>\n",
       "<polygon fill=\"none\" stroke=\"#000000\" points=\"320,-55.5 320,-91.5 510,-91.5 510,-55.5 320,-55.5\"/>\n",
       "<text text-anchor=\"middle\" x=\"331.5\" y=\"-69.8\" font-family=\"Times,serif\" font-size=\"14.00\" fill=\"#000000\">d</text>\n",
       "<polyline fill=\"none\" stroke=\"#000000\" points=\"343,-55.5 343,-91.5 \"/>\n",
       "<text text-anchor=\"middle\" x=\"385.5\" y=\"-69.8\" font-family=\"Times,serif\" font-size=\"14.00\" fill=\"#000000\">data &#45;6.0000</text>\n",
       "<polyline fill=\"none\" stroke=\"#000000\" points=\"428,-55.5 428,-91.5 \"/>\n",
       "<text text-anchor=\"middle\" x=\"469\" y=\"-69.8\" font-family=\"Times,serif\" font-size=\"14.00\" fill=\"#000000\">grad 1.0000</text>\n",
       "</g>\n",
       "<!-- 139939392284416* -->\n",
       "<g id=\"node4\" class=\"node\">\n",
       "<title>139939392284416*</title>\n",
       "<ellipse fill=\"none\" stroke=\"#000000\" cx=\"573\" cy=\"-45.5\" rx=\"27\" ry=\"18\"/>\n",
       "<text text-anchor=\"middle\" x=\"573\" y=\"-41.8\" font-family=\"Times,serif\" font-size=\"14.00\" fill=\"#000000\">*</text>\n",
       "</g>\n",
       "<!-- 139939392611328&#45;&gt;139939392284416* -->\n",
       "<g id=\"edge8\" class=\"edge\">\n",
       "<title>139939392611328&#45;&gt;139939392284416*</title>\n",
       "<path fill=\"none\" stroke=\"#000000\" d=\"M510.1002,-56.6468C519.5666,-54.9692 528.7109,-53.3487 536.9577,-51.8872\"/>\n",
       "<polygon fill=\"#000000\" stroke=\"#000000\" points=\"537.6446,-55.3201 546.8804,-50.1288 536.4231,-48.4275 537.6446,-55.3201\"/>\n",
       "</g>\n",
       "<!-- 139939392611328* -->\n",
       "<g id=\"node2\" class=\"node\">\n",
       "<title>139939392611328*</title>\n",
       "<ellipse fill=\"none\" stroke=\"#000000\" cx=\"257\" cy=\"-73.5\" rx=\"27\" ry=\"18\"/>\n",
       "<text text-anchor=\"middle\" x=\"257\" y=\"-69.8\" font-family=\"Times,serif\" font-size=\"14.00\" fill=\"#000000\">*</text>\n",
       "</g>\n",
       "<!-- 139939392611328*&#45;&gt;139939392611328 -->\n",
       "<g id=\"edge1\" class=\"edge\">\n",
       "<title>139939392611328*&#45;&gt;139939392611328</title>\n",
       "<path fill=\"none\" stroke=\"#000000\" d=\"M284.1612,-73.5C291.7422,-73.5 300.4635,-73.5 309.7289,-73.5\"/>\n",
       "<polygon fill=\"#000000\" stroke=\"#000000\" points=\"309.9681,-77.0001 319.9681,-73.5 309.9681,-70.0001 309.9681,-77.0001\"/>\n",
       "</g>\n",
       "<!-- 139939392284416 -->\n",
       "<g id=\"node3\" class=\"node\">\n",
       "<title>139939392284416</title>\n",
       "<polygon fill=\"none\" stroke=\"#000000\" points=\"636,-27.5 636,-63.5 824,-63.5 824,-27.5 636,-27.5\"/>\n",
       "<text text-anchor=\"middle\" x=\"646.5\" y=\"-41.8\" font-family=\"Times,serif\" font-size=\"14.00\" fill=\"#000000\">f</text>\n",
       "<polyline fill=\"none\" stroke=\"#000000\" points=\"657,-27.5 657,-63.5 \"/>\n",
       "<text text-anchor=\"middle\" x=\"699.5\" y=\"-41.8\" font-family=\"Times,serif\" font-size=\"14.00\" fill=\"#000000\">data &#45;6.0000</text>\n",
       "<polyline fill=\"none\" stroke=\"#000000\" points=\"742,-27.5 742,-63.5 \"/>\n",
       "<text text-anchor=\"middle\" x=\"783\" y=\"-41.8\" font-family=\"Times,serif\" font-size=\"14.00\" fill=\"#000000\">grad 1.0000</text>\n",
       "</g>\n",
       "<!-- 139939392284416*&#45;&gt;139939392284416 -->\n",
       "<g id=\"edge2\" class=\"edge\">\n",
       "<title>139939392284416*&#45;&gt;139939392284416</title>\n",
       "<path fill=\"none\" stroke=\"#000000\" d=\"M600.3473,-45.5C607.8959,-45.5 616.5623,-45.5 625.7587,-45.5\"/>\n",
       "<polygon fill=\"#000000\" stroke=\"#000000\" points=\"625.918,-49.0001 635.918,-45.5 625.9179,-42.0001 625.918,-49.0001\"/>\n",
       "</g>\n",
       "<!-- 139939392612720 -->\n",
       "<g id=\"node5\" class=\"node\">\n",
       "<title>139939392612720</title>\n",
       "<polygon fill=\"none\" stroke=\"#000000\" points=\"320.5,-.5 320.5,-36.5 509.5,-36.5 509.5,-.5 320.5,-.5\"/>\n",
       "<text text-anchor=\"middle\" x=\"332\" y=\"-14.8\" font-family=\"Times,serif\" font-size=\"14.00\" fill=\"#000000\">e</text>\n",
       "<polyline fill=\"none\" stroke=\"#000000\" points=\"343.5,-.5 343.5,-36.5 \"/>\n",
       "<text text-anchor=\"middle\" x=\"383.5\" y=\"-14.8\" font-family=\"Times,serif\" font-size=\"14.00\" fill=\"#000000\">data 1.0000</text>\n",
       "<polyline fill=\"none\" stroke=\"#000000\" points=\"423.5,-.5 423.5,-36.5 \"/>\n",
       "<text text-anchor=\"middle\" x=\"466.5\" y=\"-14.8\" font-family=\"Times,serif\" font-size=\"14.00\" fill=\"#000000\">grad &#45;6.0000</text>\n",
       "</g>\n",
       "<!-- 139939392612720&#45;&gt;139939392284416* -->\n",
       "<g id=\"edge7\" class=\"edge\">\n",
       "<title>139939392612720&#45;&gt;139939392284416*</title>\n",
       "<path fill=\"none\" stroke=\"#000000\" d=\"M509.6457,-34.6736C519.1652,-36.3004 528.3689,-37.8732 536.6736,-39.2923\"/>\n",
       "<polygon fill=\"#000000\" stroke=\"#000000\" points=\"536.2216,-42.7657 546.6683,-41.0003 537.4008,-35.8658 536.2216,-42.7657\"/>\n",
       "</g>\n",
       "<!-- 139939392612720+ -->\n",
       "<g id=\"node6\" class=\"node\">\n",
       "<title>139939392612720+</title>\n",
       "<ellipse fill=\"none\" stroke=\"#000000\" cx=\"257\" cy=\"-18.5\" rx=\"27\" ry=\"18\"/>\n",
       "<text text-anchor=\"middle\" x=\"257\" y=\"-14.8\" font-family=\"Times,serif\" font-size=\"14.00\" fill=\"#000000\">+</text>\n",
       "</g>\n",
       "<!-- 139939392612720+&#45;&gt;139939392612720 -->\n",
       "<g id=\"edge3\" class=\"edge\">\n",
       "<title>139939392612720+&#45;&gt;139939392612720</title>\n",
       "<path fill=\"none\" stroke=\"#000000\" d=\"M284.1612,-18.5C291.8883,-18.5 300.8001,-18.5 310.2653,-18.5\"/>\n",
       "<polygon fill=\"#000000\" stroke=\"#000000\" points=\"310.3028,-22.0001 320.3027,-18.5 310.3027,-15.0001 310.3028,-22.0001\"/>\n",
       "</g>\n",
       "<!-- 139939392611712 -->\n",
       "<g id=\"node7\" class=\"node\">\n",
       "<title>139939392611712</title>\n",
       "<polygon fill=\"none\" stroke=\"#000000\" points=\"0,-55.5 0,-91.5 194,-91.5 194,-55.5 0,-55.5\"/>\n",
       "<text text-anchor=\"middle\" x=\"11.5\" y=\"-69.8\" font-family=\"Times,serif\" font-size=\"14.00\" fill=\"#000000\">a</text>\n",
       "<polyline fill=\"none\" stroke=\"#000000\" points=\"23,-55.5 23,-91.5 \"/>\n",
       "<text text-anchor=\"middle\" x=\"65.5\" y=\"-69.8\" font-family=\"Times,serif\" font-size=\"14.00\" fill=\"#000000\">data &#45;2.0000</text>\n",
       "<polyline fill=\"none\" stroke=\"#000000\" points=\"108,-55.5 108,-91.5 \"/>\n",
       "<text text-anchor=\"middle\" x=\"151\" y=\"-69.8\" font-family=\"Times,serif\" font-size=\"14.00\" fill=\"#000000\">grad &#45;3.0000</text>\n",
       "</g>\n",
       "<!-- 139939392611712&#45;&gt;139939392611328* -->\n",
       "<g id=\"edge5\" class=\"edge\">\n",
       "<title>139939392611712&#45;&gt;139939392611328*</title>\n",
       "<path fill=\"none\" stroke=\"#000000\" d=\"M194.223,-73.5C203.1306,-73.5 211.7392,-73.5 219.5782,-73.5\"/>\n",
       "<polygon fill=\"#000000\" stroke=\"#000000\" points=\"219.7463,-77.0001 229.7463,-73.5 219.7463,-70.0001 219.7463,-77.0001\"/>\n",
       "</g>\n",
       "<!-- 139939392611712&#45;&gt;139939392612720+ -->\n",
       "<g id=\"edge9\" class=\"edge\">\n",
       "<title>139939392611712&#45;&gt;139939392612720+</title>\n",
       "<path fill=\"none\" stroke=\"#000000\" d=\"M166.54,-55.4793C175.8394,-52.6808 185.1985,-49.6615 194,-46.5 204.585,-42.6978 215.8877,-37.9143 225.955,-33.3821\"/>\n",
       "<polygon fill=\"#000000\" stroke=\"#000000\" points=\"227.5369,-36.5072 235.1648,-29.1542 224.6164,-30.1455 227.5369,-36.5072\"/>\n",
       "</g>\n",
       "<!-- 139939392611280 -->\n",
       "<g id=\"node8\" class=\"node\">\n",
       "<title>139939392611280</title>\n",
       "<polygon fill=\"none\" stroke=\"#000000\" points=\"2.5,-.5 2.5,-36.5 191.5,-36.5 191.5,-.5 2.5,-.5\"/>\n",
       "<text text-anchor=\"middle\" x=\"14\" y=\"-14.8\" font-family=\"Times,serif\" font-size=\"14.00\" fill=\"#000000\">b</text>\n",
       "<polyline fill=\"none\" stroke=\"#000000\" points=\"25.5,-.5 25.5,-36.5 \"/>\n",
       "<text text-anchor=\"middle\" x=\"65.5\" y=\"-14.8\" font-family=\"Times,serif\" font-size=\"14.00\" fill=\"#000000\">data 3.0000</text>\n",
       "<polyline fill=\"none\" stroke=\"#000000\" points=\"105.5,-.5 105.5,-36.5 \"/>\n",
       "<text text-anchor=\"middle\" x=\"148.5\" y=\"-14.8\" font-family=\"Times,serif\" font-size=\"14.00\" fill=\"#000000\">grad &#45;8.0000</text>\n",
       "</g>\n",
       "<!-- 139939392611280&#45;&gt;139939392611328* -->\n",
       "<g id=\"edge6\" class=\"edge\">\n",
       "<title>139939392611280&#45;&gt;139939392611328*</title>\n",
       "<path fill=\"none\" stroke=\"#000000\" d=\"M163.6161,-36.5458C173.8585,-39.6606 184.2608,-43.0225 194,-46.5 204.4458,-50.2299 215.637,-54.8231 225.6459,-59.1564\"/>\n",
       "<polygon fill=\"#000000\" stroke=\"#000000\" points=\"224.2543,-62.3679 234.8168,-63.1948 227.0754,-55.9615 224.2543,-62.3679\"/>\n",
       "</g>\n",
       "<!-- 139939392611280&#45;&gt;139939392612720+ -->\n",
       "<g id=\"edge4\" class=\"edge\">\n",
       "<title>139939392611280&#45;&gt;139939392612720+</title>\n",
       "<path fill=\"none\" stroke=\"#000000\" d=\"M191.9219,-18.5C201.6686,-18.5 211.1089,-18.5 219.6362,-18.5\"/>\n",
       "<polygon fill=\"#000000\" stroke=\"#000000\" points=\"219.9035,-22.0001 229.9035,-18.5 219.9034,-15.0001 219.9035,-22.0001\"/>\n",
       "</g>\n",
       "</g>\n",
       "</svg>\n"
      ],
      "text/plain": [
       "<graphviz.graphs.Digraph at 0x7f462dd45910>"
      ]
     },
     "execution_count": 204,
     "metadata": {},
     "output_type": "execute_result"
    }
   ],
   "source": [
    "# another way to see this\n",
    "a = Value(-2.0, label='a')\n",
    "b = Value(3.0, label='b')\n",
    "d = a * b ; d.label='d'\n",
    "e = a + b ; e.label='e'\n",
    "f = d * e ; f.label='f'\n",
    "\n",
    "f.backward()\n",
    "\n",
    "draw_dot(f)"
   ]
  },
  {
   "cell_type": "code",
   "execution_count": null,
   "id": "824c727f",
   "metadata": {},
   "outputs": [],
   "source": [
    "# we will have this problem every time we use a variable more than once\n",
    "# solution: accumlate the gradient, instead of setting it"
   ]
  }
 ],
 "metadata": {
  "kernelspec": {
   "display_name": "Python 3 (ipykernel)",
   "language": "python",
   "name": "python3"
  },
  "language_info": {
   "codemirror_mode": {
    "name": "ipython",
    "version": 3
   },
   "file_extension": ".py",
   "mimetype": "text/x-python",
   "name": "python",
   "nbconvert_exporter": "python",
   "pygments_lexer": "ipython3",
   "version": "3.8.16"
  }
 },
 "nbformat": 4,
 "nbformat_minor": 5
}
